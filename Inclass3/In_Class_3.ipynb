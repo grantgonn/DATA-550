{
 "cells": [
  {
   "cell_type": "markdown",
   "metadata": {},
   "source": [
    "# Exercise 1 \n",
    "\n",
    "Consider the `insurance.csv`. This file contains information related customers' demographis and insurance premium. The goal is to build models to predict insurance premiums. Define the input (all variables but `charges`) and target variables. 0-1 encode the categorical features using `get_dummies`.\n",
    "\n",
    "### Exercise 1(a) (10 points)\n",
    "\n",
    "Create a `.py` file that tunes (using `Optuna`) and log the best `RandomForestRegressor` model out-of-sample performance (using `root_mean_squared_error`) over 5-folds in `mlflow`.  \n",
    "\n",
    "### Exercise 1(b) (10 points)\n",
    "\n",
    "Create a `.py` file that tunes (using `Optuna`) and log the best `EtraTreesRegressor` model out-of-sample performance (using `root_mean_squared_error`) over 5-folds in `mlflow`.\n",
    "\n",
    "### Exercise 1(c) (10 points)\n",
    "\n",
    "Create a `.py` file that tunes (using `Optuna`) and log the best `GradientBoostingRegressor` model out-of-sample performance (using `root_mean_squared_error`) over 5-folds in `mlflow`.\n",
    "\n",
    "### Exercise 1(d) (10 points)\n",
    "\n",
    "Create a `.py` file that tunes (using `Optuna`) and log the best `XGBRegressor` model out-of-sample performance (using `root_mean_squared_error`) over 5-folds in `mlflow`.\n",
    "\n",
    "### Exercise 1(e) (5 points)\n",
    "\n",
    "Create a shell file that runs the scripts from parts 1(a) to 1(d).\n"
   ]
  }
 ],
 "metadata": {
  "kernelspec": {
   "display_name": "Python 3",
   "language": "python",
   "name": "python3"
  },
  "language_info": {
   "codemirror_mode": {
    "name": "ipython",
    "version": 3
   },
   "file_extension": ".py",
   "mimetype": "text/x-python",
   "name": "python",
   "nbconvert_exporter": "python",
   "pygments_lexer": "ipython3",
   "version": "3.11.9"
  }
 },
 "nbformat": 4,
 "nbformat_minor": 2
}
