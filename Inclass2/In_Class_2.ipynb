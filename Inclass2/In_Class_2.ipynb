{
 "cells": [
  {
   "cell_type": "markdown",
   "metadata": {},
   "source": [
    "# Exercise 1 \n",
    "\n",
    "Consider the `insurance.csv`. This file contains information related customers' demographis and insurance premium. The goal is to build models to predict insurance premiums. Define the input (all variables but `charges`) and target variables. 0-1 encode the categorical features using `get_dummies`.\n",
    "\n",
    "### Exercise 1(a) (8 points)\n",
    "\n",
    "Create a `.py` file that trains and log the `RandomForestRegressor` (using `n_estimators=100` and `random_state=42`) model out-of-sample performance (using `root_mean_squared_error`) over 5-folds in `mlflow`.  \n",
    "\n",
    "### Exercise 1(b) (8 points)\n",
    "\n",
    "Create a `.py` file that trains and log the `EtraTreesRegressor` (using `n_estimators=100` and `random_state=42`) model out-of-sample performance (using `root_mean_squared_error`) over 5-folds in `mlflow`.\n",
    "\n",
    "### Exercise 1(c) (8 points)\n",
    "\n",
    "Create a `.py` file that trains and log the `GradientBoostingRegressor` (using `n_estimators=100`, `learning_rate=0.1` and `random_state=42`) model out-of-sample performance (using `root_mean_squared_error`) over 5-folds in `mlflow`.\n",
    "\n",
    "### Exercise 1(d) (8 points)\n",
    "\n",
    "Create a `.py` file that trains and log the `XGBRegressor` (using `n_estimators=100`, `learning_rate=0.1` and `random_state=42`) model out-of-sample performance (using `root_mean_squared_error`) over 5-folds in `mlflow`.\n",
    "\n",
    "### Exercise 1(e) (8 points)\n",
    "\n",
    "Create a `.py` file that train a feed-forward neural network over 5-folds as follows:\n",
    "- Define a network with 2 layers of 64 and 32 neurons and `relu` as the activation function. Make sure to include `BatchNormalization()`\n",
    "before the first layer.\n",
    "- Compile the model with `optimizer='adam'` and `loss='mean_squared_error'`.\n",
    "- Build the model on the `train` data, with `epochs=20`, and `batch_size=32`.\n",
    "Log the model out-of-sample performance (using `root_mean_squared_error`) in `mlflow`.\n",
    "\n",
    "### Exercise 1(f) (5 points)\n",
    "\n",
    "Create a shell file that runs the scripts from parts 1(a) to 1(e).\n"
   ]
  }
 ],
 "metadata": {
  "kernelspec": {
   "display_name": "Python 3",
   "language": "python",
   "name": "python3"
  },
  "language_info": {
   "codemirror_mode": {
    "name": "ipython",
    "version": 3
   },
   "file_extension": ".py",
   "mimetype": "text/x-python",
   "name": "python",
   "nbconvert_exporter": "python",
   "pygments_lexer": "ipython3",
   "version": "3.10.12"
  }
 },
 "nbformat": 4,
 "nbformat_minor": 2
}
