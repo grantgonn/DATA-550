{
 "cells": [
  {
   "cell_type": "markdown",
   "metadata": {},
   "source": [
    "# Exercise 1 \n",
    "\n",
    "Consider the `CrabAgePrediction.csv`. Crab is very tasty and many countries of the world import huge amount of crabs for consumption every year. The main benefits of crab farming are, labor cost is very low, production cost is comparatively lower and they grow very fast. Commercial crab farming business is developing the lifestyle of the people of coastal areas. By proper care and management we can earn more from crab farming business than shrimp farming. You can raise mud crabs in two systems. Grow out farming and fattening systems. The dataset is used to estimate the age of the crab based on the physical attributes. \n",
    "\n",
    "\n",
    "The goal is to build models to predict crab age. Define the input (all variables but `Age`) and target variables. 0-1 encode the categorical features using `get_dummies`.\n",
    "\n",
    "### Exercise 1(a) (3 points)\n",
    "\n",
    "Create a `.py` file that reads the data and splits it into `train` (80%) and `test` (20%). Save both data-frames as `train.csv` and `test.csv`, respectively.\n",
    "\n",
    "### Exercise 1(b) (15 points)\n",
    "\n",
    "Create a `.py` file that reads the `train.csv` and `test.csv` data files. Using `evidently`, generate a data drift report comparing the `train` and `test` datasets. Log the results of the data drift analysis in `mlflow`.\n",
    "\n",
    "### Exercise 1(c) (25 points)\n",
    "\n",
    "Create a Python file (`.py`) that reads the `train.csv` and `test.csv` data files. Then, using the `evidently` library, generate a model drift report to compare the performance of the model on the `train` and `test` datasets. Utilize one of the models you built in homework assignment 6 with the optimzed hyperparameters. Finally, log the model drift results using `mlflow`.\n"
   ]
  }
 ],
 "metadata": {
  "kernelspec": {
   "display_name": "Python 3",
   "language": "python",
   "name": "python3"
  },
  "language_info": {
   "codemirror_mode": {
    "name": "ipython",
    "version": 3
   },
   "file_extension": ".py",
   "mimetype": "text/x-python",
   "name": "python",
   "nbconvert_exporter": "python",
   "pygments_lexer": "ipython3",
   "version": "3.10.12"
  }
 },
 "nbformat": 4,
 "nbformat_minor": 2
}
