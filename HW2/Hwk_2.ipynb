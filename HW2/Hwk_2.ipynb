{
 "cells": [
  {
   "cell_type": "markdown",
   "metadata": {},
   "source": [
    "# Exercise 1 \n",
    "\n",
    "Consider the `CrabAgePrediction.csv`. Crab is very tasty and many countries of the world import huge amount of crabs for consumption every year. The main benefits of crab farming are, labor cost is very low, production cost is comparatively lower and they grow very fast. Commercial crab farming business is developing the lifestyle of the people of coastal areas. By proper care and management we can earn more from crab farming business than shrimp farming. You can raise mud crabs in two systems. Grow out farming and fattening systems. The dataset is used to estimate the age of the crab based on the physical attributes. \n",
    "\n",
    "\n",
    "The goal is to build models to predict crab age. Define the input (all variables but `Age`) and target variables. 0-1 encode the categorical features using `get_dummies`.\n",
    "\n",
    "### Exercise 1(a) (10 points)\n",
    "\n",
    "Create a `.py` file that tunes (using `Optuna`) and log the best `RandomForestRegressor` model out-of-sample performance (using `mean_absolute_error`) over 5-folds in `mlflow`.  \n",
    "\n",
    "### Exercise 1(b) (10 points)\n",
    "\n",
    "Create a `.py` file that tunes (using `Optuna`) and log the best `EtraTreesRegressor` model out-of-sample performance (using `mean_absolute_error`) over 5-folds in `mlflow`.\n",
    "\n",
    "### Exercise 1(c) (10 points)\n",
    "\n",
    "Create a `.py` file that tunes (using `Optuna`) and log the best `GradientBoostingRegressor` model out-of-sample performance model out-of-sample performance (using `mean_absolute_error`) over 5-folds in `mlflow`.\n",
    "\n",
    "### Exercise 1(d) (10 points)\n",
    "\n",
    "Create a `.py` file that tunes (using `Optuna`) and log the best `XGBRegressor` model out-of-sample performance model out-of-sample performance (using `mean_absolute_error`) over 5-folds in `mlflow`.\n",
    "\n",
    "### Exercise 1(e) (10 points)\n",
    "\n",
    "Create a `.py` file that tunes (using `Optuna`) and log the best `CatBoostRegressor` model out-of-sample performance model out-of-sample performance (using `mean_absolute_error`) over 5-folds in `mlflow`. Only tune `iterations`, and `max_depth`.\n",
    "\n",
    "### Exercise 1(f) (5 points)\n",
    "\n",
    "Create a shell file that runs the scripts from parts 1(a) to 1(e).\n"
   ]
  }
 ],
 "metadata": {
  "kernelspec": {
   "display_name": "Python 3",
   "language": "python",
   "name": "python3"
  },
  "language_info": {
   "codemirror_mode": {
    "name": "ipython",
    "version": 3
   },
   "file_extension": ".py",
   "mimetype": "text/x-python",
   "name": "python",
   "nbconvert_exporter": "python",
   "pygments_lexer": "ipython3",
   "version": "3.10.11"
  }
 },
 "nbformat": 4,
 "nbformat_minor": 2
}
