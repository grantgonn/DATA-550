{
 "cells": [
  {
   "cell_type": "markdown",
   "metadata": {},
   "source": [
    "# Exercise 1 \n",
    "\n",
    "Consider the `insurance.csv`. This file contains information related customers' demographis and insurance premium. The goal is to build models to predict insurance premiums. Define the input (all variables but `charges`) and target variables. 0-1 encode the categorical features using `get_dummies`.\n",
    "\n",
    "### Exercise 1(a) (3 points)\n",
    "\n",
    "Create a `.py` file that reads the data and splits it into `train` (80%) and `test` (20%). Save both data-frames as `train.csv` and `test.csv`, respectively.\n",
    "\n",
    "### Exercise 1(b) (15 points)\n",
    "\n",
    "Create a `.py` file that reads the `train.csv` and `test.csv` data files. Using `evidently`, generate a data drift report comparing the `train` and `test` datasets. Log the results of the data drift analysis in `mlflow`.\n",
    "\n",
    "### Exercise 1(c) (20 points)\n",
    "\n",
    "Create a Python file (`.py`) that reads the `train.csv` and `test.csv` data files. Then, using the `evidently` library, generate a model drift report to compare the performance of the model on the `train` and `test` datasets. Utilize the `RandomForestRegressor` model with the optimized hyperparameters obtained from the previous in-class assignment. Finally, log the model drift results using `mlflow`."
   ]
  }
 ],
 "metadata": {
  "kernelspec": {
   "display_name": "Python 3",
   "language": "python",
   "name": "python3"
  },
  "language_info": {
   "codemirror_mode": {
    "name": "ipython",
    "version": 3
   },
   "file_extension": ".py",
   "mimetype": "text/x-python",
   "name": "python",
   "nbconvert_exporter": "python",
   "pygments_lexer": "ipython3",
   "version": "3.10.12"
  }
 },
 "nbformat": 4,
 "nbformat_minor": 2
}
