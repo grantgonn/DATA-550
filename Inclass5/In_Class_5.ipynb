{
 "cells": [
  {
   "cell_type": "markdown",
   "metadata": {},
   "source": [
    "# Exercise 1 \n",
    "\n",
    "Consider the `insurance.csv`. This file contains information related customers' demographis and insurance premium. The goal is to build models to predict insurance premiums. Define the input (all variables but `charges`) and target variables. 0-1 encode the categorical features using `get_dummies`.\n",
    "\n",
    "### Exercise 1(a) (3 points)\n",
    "\n",
    "Create a `.py` file that reads the data and splits it into `train` (80%) and `test` (20%). Save both data-frames as `train.csv` and `test.csv`, respectively.\n",
    "\n",
    "### Exercise 1(b) (15 points)\n",
    "\n",
    "Create a `.py` file that reads the `train.csv` data file, tunes (using `Optuna`) and log the best `RandomForestRegressor` model out-of-sample performance (using `root_mean_squared_error`) over 5-folds in `mlflow`. Then, run the `permutation_importance` algorithm and identify the top five features. After that, re-run `Optuna` with the top five features and log the model performance.\n",
    "\n",
    "### Exercise 1(c) (15 points)\n",
    "\n",
    "Create a `.py` file that reads the `train.csv` data file, tunes (using `Optuna`) and log the best `ExtraTreesRegressor` model out-of-sample performance (using `root_mean_squared_error`) over 5-folds in `mlflow`. Then, run the `permutation_importance` algorithm and identify the top five features. After that, re-run `Optuna` with the top five features and log the model performance.\n",
    "\n",
    "### Exercise 1(d) (15 points)\n",
    "\n",
    "Create a `.py` file that reads the `train.csv` data file, tunes (using `Optuna`) and log the best `GradientBoostingRegressor` model out-of-sample performance (using `root_mean_squared_error`) over 5-folds in `mlflow`. Then, run the `permutation_importance` algorithm and identify the top five features. After that, re-run `Optuna` with the top five features and log the model performance.\n",
    "\n",
    "### Exercise 1(e) (15 points)\n",
    "\n",
    "Create a `.py` file that reads the `train.csv` data file, tunes (using `Optuna`) and log the best `XGBRegressor` model out-of-sample performance (using `root_mean_squared_error`) over 5-folds in `mlflow`. Then, run the `permutation_importance` algorithm and identify the top five features. After that, re-run `Optuna` with the top five features and log the model performance.\n",
    "\n",
    "### Exercise 1(f) (5 points)\n",
    "\n",
    "Create a shell file that runs the scripts from parts 1(b) to 1(e).\n",
    "\n",
    "### Exercise 1(g) (7 points)\n",
    "\n",
    "Create a `.py` file that reads the `test.csv` data file. Load the best models from sections 1(b) to 1(e) to make predictions on the `test` dataset, and report their corresponding root mean squared errors (RMSE). Additionally, report the RMSE of the average ensemble of the models from sections 1(b) to 1(e).\n",
    "\n"
   ]
  }
 ],
 "metadata": {
  "kernelspec": {
   "display_name": "Python 3",
   "language": "python",
   "name": "python3"
  },
  "language_info": {
   "codemirror_mode": {
    "name": "ipython",
    "version": 3
   },
   "file_extension": ".py",
   "mimetype": "text/x-python",
   "name": "python",
   "nbconvert_exporter": "python",
   "pygments_lexer": "ipython3",
   "version": "3.10.12"
  }
 },
 "nbformat": 4,
 "nbformat_minor": 2
}
